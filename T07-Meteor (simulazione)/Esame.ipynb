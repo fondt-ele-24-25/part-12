{
 "cells": [
  {
   "cell_type": "code",
   "execution_count": 1,
   "metadata": {
    "slideshow": {
     "slide_type": "skip"
    }
   },
   "outputs": [],
   "source": [
    "%load_ext autoreload\n",
    "%autoreload 2"
   ]
  },
  {
   "cell_type": "markdown",
   "metadata": {
    "slideshow": {
     "slide_type": "subslide"
    }
   },
   "source": [
    "## Esercizio: Meteora\n",
    "\n",
    "Una meteora di forma sferica è in caduta verticale verso la Terra ed ha appena raggiunto la mesosfera. La meteora è soggetta alla forza di gravità, data da (si assume che un asse cartesiano orientato verso l’alto):\n",
    "\n",
    "$$\n",
    "F_g = - m g\n",
    "$$\n",
    "\n",
    "Dove $m$ è la massa e $g$ è l’accelerazione di gravità nella mesosfera. Al moto si oppone la forza di trascinamento dovuta all’attrito con l’aria e data da:\n",
    "\n",
    "$$\n",
    "F_t = -\\frac{1}{2} \\rho_a C_d S v |v|\n",
    "$$\n",
    "\n",
    "Dove $\\rho_a$ è la densità dell'aria, $C_d$ è il coefficiente di attrito, $v$ è la velocità di caduta. Per semplicità si assume che $g$ e $\\rho_a$ siano costanti. La massa della meteora è invece una quantità variabile, perché (per via della frizione con l’atmosfera) il suo raggio decresce ad un ritmo proporzionale alla velocità ed al raggio stesso:\n",
    "\n",
    "$$\n",
    "\\dot{r} = -b_r |v| r\n",
    "$$\n",
    "\n",
    "La massa può quindi essere calcolata come:\n",
    "\n",
    "$$\n",
    "m = \\rho_m \\frac{4}{3} \\pi r^3\n",
    "$$\n",
    "\n",
    "Dove $\\rho_m$ è la densità della meteora.\n",
    "La superficie della sezione $S$ è anch'essa variabile e data da:\n",
    "\n",
    "$$\n",
    "S = \\pi r^2\n",
    "$$\n",
    "\n",
    "Nel complesso, abbiamo che la meteora è descritta da un'equazione differenziale ordinaria nella forma:\n",
    "\n",
    "$$\\begin{align}\n",
    "\\dot{x} &= v \\\\\n",
    "\\dot{v} &= \\frac{1}{m} (F_g + F_t) \\\\\n",
    "\\dot{r} &= b_r |v| r\n",
    "\\end{align}$$\n",
    "\n",
    "Dove le componenti dello stato sono la posizione $x$, la velocità $v$ ed il raggio $r$. I termini $m$, $F_g$ ed $F_t$ sono calcolabili come indicato sopra."
   ]
  },
  {
   "cell_type": "markdown",
   "metadata": {},
   "source": [
    "## Esercizio 1\n",
    "\n",
    "**Nel modulo `sol.meteor` definire la funzione**\n",
    "\n",
    "```python\n",
    "def dstate(X, t):\n",
    "    # Parametri fissi\n",
    "    rhoA = 0.0020 # Densita' aria\n",
    "    rhoM = 3.32e3 # Densita' meteorite\n",
    "    Cd = 0.47 # Coefficiente di trascinamento\n",
    "    g = 9.7 # Accelerazione di gravita' nella mesosfera\n",
    "    br = 0.71e-5 # Tasso di riduzione del raggio\n",
    "    ...\n",
    "```\n",
    "\n",
    "* La funzione deve calcolare le espressioni che definiscono l'ODE\n",
    "* Diversi parametri (come indicato) saranno considerati fissi nell'esercizio\n",
    "* La funzione deve restituire un array `numpy` con le due componenti della derivata\n",
    "\n",
    "\n",
    "**Nel modulo `sol.meteor` si definisca quindi la funzione:**\n",
    "\n",
    "```python\n",
    "def simulate():\n",
    "    v0 = -18e3\n",
    "    d0 = 51413\n",
    "    r0 = 0.11\n",
    "    X0 = [d0, v0, r0]\n",
    "    t = np.linspace(0, 10, 10 * 10000)\n",
    "    ...\n",
    "```\n",
    "\n",
    "* La funzione deve risolvere un problema ai valori iniziali\n",
    "* ...Con lo stato iniziale ed il vettore dei tempi indicati\n",
    "* Il metodo deve restituire\n",
    "  - La matrice con gli stati visitati\n",
    "  - Il vettore dei tempi visitati\n",
    "\n",
    "Si collaudi la funzione nella cella seguente. Per verificare la correttezza dei risultati, può essere utile disegnare l'andamento dello stato usando la funzione `plot_state_evolution` nel modulo `base.util` incluso nel tema d'esame."
   ]
  },
  {
   "cell_type": "code",
   "execution_count": null,
   "metadata": {
    "scrolled": false
   },
   "outputs": [],
   "source": []
  },
  {
   "cell_type": "markdown",
   "metadata": {},
   "source": [
    "## Esercizio 2\n",
    "\n",
    "**Se si assume che il raggio della meteora sia costante, la velocità terminale viene raggiunta quando:**\n",
    "\n",
    "$$\n",
    "f(v) = F_g(v) + F_t(v) = 0\n",
    "$$\n",
    "\n",
    "**Nel modulo `sol.meteor` si definisca la funzione:**\n",
    "\n",
    "```python\n",
    "def find_terminal_speed_aux(v):\n",
    "    # Parametri fissi\n",
    "    rhoA = 0.0020 # Densita' aria\n",
    "    rhoM = 3.32e3 # Densita' meteorite\n",
    "    Cd = 0.47 # Coefficiente di trascinamento\n",
    "    g = 9.7 # Accelerazione di gravita' nella mesosfera\n",
    "    br = 0.71e-5 # Tasso di riduzione del raggio\n",
    "    r = 1e-6 # Raggio della meteora (fisso)\n",
    "    ...\n",
    "```\n",
    "\n",
    "* La funzione deve calcolare e restituire il valore di $F_g(v) + F_t(v)$ in funzione di $v$\n",
    "\n",
    "\n",
    "**Nel modulo `sol.meteor` si definisca la funzione:**\n",
    "\n",
    "```python\n",
    "def find_terminal_speed():\n",
    "    a, b = -1000, 1\n",
    "    ...\n",
    "```\n",
    "\n",
    "* La funzione deve calcolare il valore della velocità terminale risolvendo l'equazione sopra indicata\n",
    "* Per la soluzione, si utilizzi il metodo `scipy.optimize.brentq` con gli estremi dell'intervallo indicati\n",
    "* La funzione deve restituire il valore della velocità calcolato"
   ]
  },
  {
   "cell_type": "code",
   "execution_count": null,
   "metadata": {},
   "outputs": [],
   "source": []
  },
  {
   "cell_type": "markdown",
   "metadata": {},
   "source": [
    "## Esercizio 3\n",
    "\n",
    "**Sia $r(t)$ il valore del raggio (variabile) al tempo $t$. Dato un valore di raggio $r^*$ di interesse, è possibile determinare per quale valore di tempo venga raggiunto risolvendo:**\n",
    "\n",
    "$$\n",
    "F(t) = r(t) - r^* = 0\n",
    "$$\n",
    "\n",
    "Il valore di $t$ che azzera la funzione rappresenta la soluzione.\n",
    "\n",
    "**Nel modulo `sol.meteor` si definisca la funzione**\n",
    "\n",
    "```python\n",
    "def find_vanishing_time_aux(t):\n",
    "    ...\n",
    "```\n",
    "\n",
    "* La funzione deve calcolare il valore della funzione $F(t)$ indicata sopra, per $r^* = 10^{-3}$\n",
    "* Si consideri come riferimento il problema ai valori iniziale risolto nell'esercizio 1\n",
    "\n",
    "**Nel modulo `sol.meteor` si definisca la funzione**\n",
    "\n",
    "```python\n",
    "def find_vanishing_time():\n",
    "    a, b = 0, 60 * 60\n",
    "    ...\n",
    "```\n",
    "\n",
    "* La funzione deve determinare per quale tempo la funzione $F(t)$ si azzera\n",
    "* Per la soluzione dell'equazione, si utilizzi il metodo `scipy.optimize.brentq` con gli estremi indicati\n",
    "* La funzione deve restituire il valore del tempo che risolve l'equazione"
   ]
  },
  {
   "cell_type": "code",
   "execution_count": null,
   "metadata": {},
   "outputs": [],
   "source": []
  }
 ],
 "metadata": {
  "kernelspec": {
   "display_name": "Python 3 (ipykernel)",
   "language": "python",
   "name": "python3"
  },
  "language_info": {
   "codemirror_mode": {
    "name": "ipython",
    "version": 3
   },
   "file_extension": ".py",
   "mimetype": "text/x-python",
   "name": "python",
   "nbconvert_exporter": "python",
   "pygments_lexer": "ipython3",
   "version": "3.9.5"
  },
  "rise": {
   "center": false,
   "enable_chalkboard": true,
   "transition": "fade"
  }
 },
 "nbformat": 4,
 "nbformat_minor": 4
}
