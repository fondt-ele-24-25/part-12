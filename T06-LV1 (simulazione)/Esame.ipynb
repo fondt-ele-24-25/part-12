{
 "cells": [
  {
   "cell_type": "code",
   "execution_count": 1,
   "metadata": {
    "slideshow": {
     "slide_type": "skip"
    }
   },
   "outputs": [],
   "source": [
    "%load_ext autoreload\n",
    "%autoreload 2"
   ]
  },
  {
   "cell_type": "markdown",
   "metadata": {
    "slideshow": {
     "slide_type": "subslide"
    }
   },
   "source": [
    "## Esercizio: Lotka-Volterra 1\n",
    "\n",
    "**Si vuole studiare l’andamento della popolazione di volpi e conigli in un tratto di campagna britannica.**\n",
    "\n",
    "Si ipotizza che l’andamento delle due popolazioni sia modellabile mediante le equazioni di Lotka-Volterra, un classico modello preda-predatore continuo. Il modello è definito dalle due equazioni differenziali:\n",
    "\n",
    "$$\\begin{align}\n",
    "\\dot{r} = \\alpha r - \\beta r f \\\\\n",
    "\\dot{f} = \\delta r f - \\gamma f\n",
    "\\end{align}$$\n",
    "\n",
    "Dove $r$ è il numero di conigli, $f$ è il numero di volpi e:\n",
    "\n",
    "* $\\alpha$ è il tasso naturale di crescita della popolazione di conigli\n",
    "* $\\beta$ è il tasso di predazione dei conigli da parte delle volpi\n",
    "* $\\delta$ è il “bonus” riproduttivo per le volpi in base alla predazione\n",
    "* $\\gamma$ è il tasso di decadimento naturale della popolazione di volpi\n",
    "\n",
    "Tutti i parametri del modello sono calcolati avendo come _unità di misurate temporale un mese_."
   ]
  },
  {
   "cell_type": "markdown",
   "metadata": {},
   "source": [
    "## Esercizio 1\n",
    "\n",
    "**Nel modulo `sol.lv` definire la funzione**\n",
    "\n",
    "```python\n",
    "def dstate(X, t=0):\n",
    "    # Parametri fissi\n",
    "    a = 0.2 # Tasso di crescita della popolazione di conigli\n",
    "    b = 0.0006 # Tasso di predazione\n",
    "    d = 0.00004 # Bonus riproduttivo per predazione\n",
    "    g = 0.1 # Tasso di calo della popolazione di volpi\n",
    "    ...\n",
    "```\n",
    "\n",
    "* La funzione deve calcolare le espressioni che definiscono l'ODE\n",
    "* Diversi parametri (come indicato) saranno considerati fissi nell'esercizio\n",
    "* La funzione deve restituire un array `numpy` con le due componenti della derivata\n",
    "\n",
    "\n",
    "**Nel modulo `sol.lv` si definisca quindi la funzione:**\n",
    "\n",
    "```python\n",
    "def simulate():\n",
    "    x0 = [2000, 200]\n",
    "    t = np.linspace(0, 12*10, 12*10*10)\n",
    "    ...\n",
    "```\n",
    "\n",
    "* La funzione deve risolvere un problema ai valori iniziali\n",
    "* ...Con lo stato iniziale ed il vettorei dei tempi indicati (10 anni)\n",
    "* Il metodo deve restituire\n",
    "  - La matrice con gli stati visitati\n",
    "  - Il vettore dei tempi visitati\n",
    "\n",
    "Si collaudi la funzione nella cella seguente. Per verificare la correttezza dei risultati, può essere utile disegnare l'andamento dello stato usando la funzione `plot_state_evolution` nel modulo `base.util` incluso nel tema d'esame."
   ]
  },
  {
   "cell_type": "code",
   "execution_count": null,
   "metadata": {},
   "outputs": [],
   "source": []
  },
  {
   "cell_type": "markdown",
   "metadata": {},
   "source": [
    "## Esercizio 2\n",
    "\n",
    "In corrispondenza di un punto di equilibrio, tutte le derivate di un sistema dinamico tempo continuo devono annullarsi. Quindi, per i punti di equilibrio del modello di Lotka-Volterra deve valere l’equazione:\n",
    "\n",
    "$$\\begin{align}\n",
    "\\alpha r - \\beta r f = 0\\\\\n",
    "\\delta r f - \\gamma f = 0\n",
    "\\end{align}$$\n",
    "\n",
    "Si noti che le due espressioni da annullare sono _le due derivata calcolate da `dstate`_.\n",
    "\n",
    "Il modello ha sempre un punto di equilibrio quando entrambe le popolazioni sono nulle, più un secondo punto di equilibrio non banale.\n",
    "\n",
    "**Nel modulo `sol.lv` si definisca la funzione:**\n",
    "\n",
    "```python\n",
    "def find_eq():\n",
    "    x0 = [2000, 200]\n",
    "    ...\n",
    "```\n",
    "\n",
    "* La funzione deve determinare un punto di equilibrio per il sistema\n",
    "* Si utilizzi il metodo `scipy.optimize.fsolve` per risolvere il sistema di equazioni\n",
    "* Si utilizzi come stima iniziare il valore indicato nel codice\n",
    "* Sia $f(X)$ la funzione di cui si desidera individuare uno zero\n",
    "  - Se $max(|f(X)|) < 10^{-6}$ deve essere restituita la soluzione\n",
    "  - In caso contrario, deve essere restituito `None`"
   ]
  },
  {
   "cell_type": "code",
   "execution_count": null,
   "metadata": {},
   "outputs": [],
   "source": []
  },
  {
   "cell_type": "markdown",
   "metadata": {},
   "source": [
    "## Esercizio 3\n",
    "\n",
    "**È possibile deteminare quali valori dovrebbero avere i due parametri $\\beta$ e $\\delta$ perché all'equilibrio $r$ ed $f$ abbiano valori prestabiliti**\n",
    "\n",
    "A tal scopo, è necessario risolvere il sistema:\n",
    "\n",
    "$$\\begin{align}\n",
    "\\alpha r - \\beta r f = 0\\\\\n",
    "\\delta r f - \\gamma f = 0\n",
    "\\end{align}$$\n",
    "\n",
    "...In cui $r$ ed $f$ sono noti, mentre le variabili sono $\\beta$ e $\\delta$\n",
    "\n",
    "**Nel modulo `sol.lv` si definisca la funzione:**\n",
    "\n",
    "```python\n",
    "def find_params_aux(X):\n",
    "    # Parametri fissi\n",
    "    a = 0.2 # Tasso di crescita della popolazione di conigli\n",
    "    g = 0.1 # Tasso di calo della popolazione di volpi\n",
    "    r = 2500 # Numero di conigli all'equilibrio\n",
    "    f = 400 # Numero di volpi all'equilibrio\n",
    "    ...\n",
    "```\n",
    "\n",
    "* La funzione deve calcolare la due espressioni da azzerare nel sistema appena descritto\n",
    "* Il parametro di ingresso $X$ rappresentea la coppia $(\\beta, \\delta)$\n",
    "* La funzione deve restituire le due espressioni come array di `numpy`\n",
    "\n",
    "\n",
    "**Nel modulo `sol.lv` si definisca la funzione:**\n",
    "\n",
    "```python\n",
    "def find_params():\n",
    "    x0 = [0.0006, 0.00004]\n",
    "    ...\n",
    "```\n",
    "\n",
    "* La funzione deve determinare il valore dei parametri $\\beta$ e $\\delta$ perché le popolazioni all'equilibrio siano quelle specificate in `find_params_aux`\n",
    "* Si utilizzi il metodo `scipy.optimize.fsolve` per risolvere il sistema di equazioni\n",
    "* Si utilizzi come stima iniziare il valore indicato nel codice\n",
    "* Sia $f(X)$ la funzione di cui si desidera individuare uno zero\n",
    "  - Se $max(|f(X)|) < 10^{-6}$ deve essere restituita la soluzione\n",
    "  - In caso contrario, deve essere restituito `None`"
   ]
  },
  {
   "cell_type": "code",
   "execution_count": null,
   "metadata": {},
   "outputs": [],
   "source": []
  }
 ],
 "metadata": {
  "kernelspec": {
   "display_name": "Python 3 (ipykernel)",
   "language": "python",
   "name": "python3"
  },
  "language_info": {
   "codemirror_mode": {
    "name": "ipython",
    "version": 3
   },
   "file_extension": ".py",
   "mimetype": "text/x-python",
   "name": "python",
   "nbconvert_exporter": "python",
   "pygments_lexer": "ipython3",
   "version": "3.11.8"
  },
  "rise": {
   "center": false,
   "enable_chalkboard": true,
   "transition": "fade"
  }
 },
 "nbformat": 4,
 "nbformat_minor": 4
}
