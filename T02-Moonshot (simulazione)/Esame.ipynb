{
 "cells": [
  {
   "cell_type": "code",
   "execution_count": 1,
   "metadata": {
    "slideshow": {
     "slide_type": "skip"
    }
   },
   "outputs": [],
   "source": [
    "%load_ext autoreload\n",
    "%autoreload 2"
   ]
  },
  {
   "cell_type": "markdown",
   "metadata": {
    "slideshow": {
     "slide_type": "subslide"
    }
   },
   "source": [
    "## Esercizio: Dalla Terra alla Luna\n",
    "\n",
    "**Una navicella spaziale viene sparata verso la Luna**\n",
    "\n",
    "<center>\n",
    "<img src=\"assets/moonshot.jpg\" width=30%/>\n",
    "</center>\n",
    "\n",
    "**Durante il viaggio, la navicella è soggetta a forze gravitazionali**\n",
    "\n",
    "Esse sono regolate dalla legge di gravitazione di Newton:\n",
    "\n",
    "$$\n",
    "F_{12} = -G \\frac{m_1 m_2}{r_{12} \\|r_{12}\\|}\n",
    "$$\n",
    "\n",
    "* $F_{12}$ è la forza esercitata dal corpo 2 sul corpo 1\n",
    "* $G$ è la costante di gravitazione\n",
    "* $m_1$ ed $m_2$ sono le masse del corpo 1 e 2\n",
    "* $r_{12}$ è la distanza dal corpo 1 al corpo 2, i.e.\n",
    "$$\n",
    "r_{12} = x_1 - x_2\n",
    "$$\n",
    "* $x_1$ e $x_2$ sono le posizioni (scalari) di 1 e 2 (la forma vettoriale è diversa)\n",
    "\n",
    "\n",
    "**Si desidera modellare il moto della navicella**\n",
    "\n",
    "* Assumiamo per semplicità che la Terra e la Luna siano in fisse\n",
    "* Quindi la nave viaggerà lungo una traiettoria verticale\n",
    "* Il moto sarà regolato dell'equazione differenziale:\n",
    "\n",
    "$$\n",
    "\\ddot{x} = \\frac{1}{m_s} (F_{se} + F_{sm})\n",
    "$$\n",
    "\n",
    "* $m_s$ è la massa della navicella\n",
    "* $F_{se}$ è l'attrazione esercitata dalla Terra sulla navicella\n",
    "* $F_{sm}$ è l'attrazione esercitata dalla Luna sulla navicella\n",
    "\n",
    "\n",
    "**Nel complesso, il sistema è descritto dell'ODE**\n",
    "\n",
    "$$\n",
    "\\left(\\begin{array}{c}\n",
    "\\dot{x} \\\\\n",
    "\\dot{v}\n",
    "\\end{array}\\right)\n",
    "=\n",
    "\\left(\\begin{array}{c}\n",
    "v \\\\\n",
    "\\frac{1}{m_s} (F_{se} + F_{sm})\n",
    "\\end{array}\\right)\n",
    "$$\n",
    "\n",
    "Con:\n",
    "\n",
    "$$\\begin{align}\n",
    "& F_{se} = - G \\frac{m_s m_e}{x |x|} \\\\\n",
    "& F_{sm} = - G \\frac{m_s m_m}{(x-D) |x-D|}\n",
    "\\end{align}$$\n",
    "\n",
    "Dove $D$ è la distanza tra il centro della Terra e della Luna"
   ]
  },
  {
   "cell_type": "markdown",
   "metadata": {},
   "source": [
    "## Esercizio 1\n",
    "\n",
    "**Nel modulo `sol.moonshot` definire la funzione**\n",
    "\n",
    "```python\n",
    "def dstate(X, t, G=6.67408e-11, ME=5.972e24, MM=7.34767309e22, MS=800, D=384400e3):\n",
    "    ...\n",
    "\n",
    "```\n",
    "\n",
    "* La funzione deve calcolare le espressioni che definiscono l'ODE\n",
    "* I parametri con valore di default saranno mantenuti fissi nell'esercizio\n",
    "* Il metodo deve restituire un array `numpy` con le due componenti della derivata\n",
    "\n",
    "**Nel modulo `sol.moonshot` si definisca quindi la funzione:**\n",
    "\n",
    "```python\n",
    "def simulate(v0, rE=6371e3, t=np.linspace(0, 3*3600, 3*3600*100)):\n",
    "    ...\n",
    "```\n",
    "\n",
    "* La funzione deve risolvere un problema ai valori iniziali\n",
    "* ...Con lo stato iniziale $(r_E, v_0)$ ed il vettore dei tempi indicati\n",
    "* Il metodo deve restituire\n",
    "  - La matrice con gli stati visitati\n",
    "  - Il vettore dei tempi visitati\n",
    "\n",
    "Si collaudi la funzione per $v_0 = 11100$. Per verificare la correttezza dei risultati, può essere utile disegnare l'andamento dello stato usando la funzione `plot_state_evolution` nel modulo `base.util` incluso nel tema d'esame."
   ]
  },
  {
   "cell_type": "code",
   "execution_count": null,
   "metadata": {},
   "outputs": [],
   "source": []
  },
  {
   "cell_type": "markdown",
   "metadata": {},
   "source": [
    "## Esercizio 2\n",
    "\n",
    "**Per una data distanza tra la navicella e la Terra, le due attrazioni gravitazionali si bilanciano. Ciò accade quando:**\n",
    "\n",
    "$$\n",
    "F(x) = F_{se}(x) + F_{sm}(x) = 0\n",
    "$$\n",
    "\n",
    "**Nel modulo `sol.moonshot` si definisca la funzione:**\n",
    "\n",
    "```python\n",
    "def find_balance_point_aux(x, G=6.67408e-11, ME=5.972e24, MM=7.34767309e22, MS=800, D=384400e3):\n",
    "    ...\n",
    "```\n",
    "\n",
    "* La funzione deve calcolare e restituire il valore di $F(x)$.\n",
    "\n",
    "**Nel modulo `sol.moonshot` si definisca la funzione:**\n",
    "\n",
    "```python\n",
    "def find_balance_point(a=1e6, b=384e6):\n",
    "    ...\n",
    "```\n",
    "\n",
    "* La funzione deve utilizzare il metodo `scipy.optimize.brentq` per determinare il punto di equilibrio\n",
    "* La funzione deve restituire il valore di $x$ al punto di equilibrio"
   ]
  },
  {
   "cell_type": "code",
   "execution_count": null,
   "metadata": {},
   "outputs": [],
   "source": []
  },
  {
   "cell_type": "markdown",
   "metadata": {},
   "source": [
    "## Esercizio 3\n",
    "\n",
    "**Nel modulo `sol.moonshot` si definisca la funzione**\n",
    "\n",
    "```python\n",
    "def distance_in_1h(v0):\n",
    "    ...\n",
    "```\n",
    "\n",
    "* Che, dato un valore per $v_0$ calcoli la distanza percorsa in $1$ _ora_\n",
    "* La funzione deve restituire tale valore di distanza\n",
    "\n",
    "**Sia $F(v_0)$ la funzione appena definita. Nel modulo `sol.moonshot` si definisca la funzione:**\n",
    "\n",
    "```python\n",
    "def distances_for_v0_range(v0_range):\n",
    "    ...\n",
    "```\n",
    "\n",
    "* La funzione riceve come ingresso una sequenza (va bene qualunque tipo) di valori per $v_0$\n",
    "* La funzione deve restituire una sequenza (va bene qualunque tipo) con i valori di $F(v_0)$ corrsipondenti alle velocità passate in ingresso\n",
    "* Si collaudi la funzione per `v0_range = np.linspace(9500, 12000)`\n",
    "\n",
    "Per verificare la correttezza, si suggerisce di disegnare la curva $v_0, F(v_0)$ utilizzando per esempio la funzione `base.util.plot` fornita insieme al tema d'esame."
   ]
  },
  {
   "cell_type": "code",
   "execution_count": null,
   "metadata": {
    "scrolled": false
   },
   "outputs": [],
   "source": []
  }
 ],
 "metadata": {
  "kernelspec": {
   "display_name": "Python 3 (ipykernel)",
   "language": "python",
   "name": "python3"
  },
  "language_info": {
   "codemirror_mode": {
    "name": "ipython",
    "version": 3
   },
   "file_extension": ".py",
   "mimetype": "text/x-python",
   "name": "python",
   "nbconvert_exporter": "python",
   "pygments_lexer": "ipython3",
   "version": "3.11.8"
  },
  "rise": {
   "center": false,
   "enable_chalkboard": true,
   "transition": "fade"
  }
 },
 "nbformat": 4,
 "nbformat_minor": 4
}
