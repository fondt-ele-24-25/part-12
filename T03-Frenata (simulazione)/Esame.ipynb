{
 "cells": [
  {
   "cell_type": "code",
   "execution_count": 1,
   "metadata": {
    "slideshow": {
     "slide_type": "skip"
    }
   },
   "outputs": [],
   "source": [
    "%load_ext autoreload\n",
    "%autoreload 2"
   ]
  },
  {
   "cell_type": "markdown",
   "metadata": {
    "slideshow": {
     "slide_type": "subslide"
    }
   },
   "source": [
    "## Esercizio: Controllo di Frenata\n",
    "\n",
    "**Si desidera progettare la curva di controllo della velocità in frenata di un carrello automatico in un magazzino.**\n",
    "\n",
    "<center>\n",
    "<img src=\"assets/brake_control.png\" width=30%/>\n",
    "</center>\n",
    "\n",
    "In altre parole, occorre progettare come la velocità deve variare nel tempo: si assuma per semplicità che il sistema sia dotato di attuatori in grado di mantenere in ogni momento la velocità desiderata.\n",
    "\n",
    "**La curva di velocità deve soddisfare le seguenti condizioni:**\n",
    "\n",
    "* In corrispondenza dell’istante iniziale $t_0$ la curva abbia un valore noto $v_0$ (la velocità di crociera del mezzo)\n",
    "* In corrispondenza dell’istante t1 la curva deve valere $v_1$\n",
    "* La derivata in $t_0$ e $t_1$ sia nulla (perché la frenata non sia troppo brusca)\n",
    "\n",
    "La curva di velocità deve essere descritta da un polinomio di 3° grado, i.e.:\n",
    "\n",
    "$$\n",
    "\\alpha_3 t^3 + \\alpha_2 t^2 + \\alpha_1 t + \\alpha_0\n",
    "$$\n",
    "\n",
    "Le condizioni richiesta si possono tradurre nelle seguenti equazioni:\n",
    "\n",
    "$$\\begin{align}\n",
    "\\alpha_3 t_0^3 + \\alpha_2 t_0^2 + \\alpha_1 t_0 + \\alpha_0 = v_0 \\\\\n",
    "\\alpha_3 t_1^3 + \\alpha_2 t_1^2 + \\alpha_1 t_1 + \\alpha_0 = v_1 \\\\\n",
    "3\\alpha_3 t_0^2 + 2\\alpha_2 t_0 + \\alpha_1 = 0 \\\\\n",
    "3\\alpha_3 t_1^2 + 2\\alpha_2 t_1 + \\alpha_1 = 0\n",
    "\\end{align}$$"
   ]
  },
  {
   "cell_type": "markdown",
   "metadata": {},
   "source": [
    "## Esercizio 1\n",
    "\n",
    "**Nel modulo `sol.brake` definire la funzione**\n",
    "\n",
    "```python\n",
    "def find_curve_params(t1, t0=0, v0=5.5, v1=0):\n",
    "    ...\n",
    "```\n",
    "\n",
    "* Alcuni parametri del problema (quelli con valore di default) saranno mantenuti fissi nel tema d'esame\n",
    "* La funzione deve determinare i parametri della curva (i coefficienti dei termini monomiali) in modo da soddisfare le condizioni\n",
    "* La funzione deve restituire nell'ordine $\\alpha_3, \\alpha_2, \\alpha_1, \\alpha_0$\n",
    "\n",
    "Si collaudi la funzione per $t_1 = 3$.\n",
    "\n",
    "**Nel modulo `sol.brake` definire la funzione:**\n",
    "\n",
    "```python\n",
    "def curve(a3, a2, a1, a0, t):\n",
    "    ...\n",
    "```\n",
    "\n",
    "* La funzione riceve in ingresso i valori di $\\alpha_3, \\alpha_2, \\alpha_1, \\alpha_0$ ed una sequenza di valori per $t$\n",
    "* La funzione deve calcolare e restituire i valori della curva per ciascuni dei valori di $t$ passati\n",
    "\n",
    "Per verificare la correttezza, si suggerisce di disegnare la curva nell'intervallo per $t$ compreso tra $0$ e $3$, utilizzando la fuzione `base.util.plot` inclusa con il tema d'esame."
   ]
  },
  {
   "cell_type": "code",
   "execution_count": null,
   "metadata": {},
   "outputs": [],
   "source": []
  },
  {
   "cell_type": "markdown",
   "metadata": {},
   "source": [
    "## Esercizio 2\n",
    "\n",
    "**Si assuma che il parametro $\\alpha_3$ debba avere un valore fisso, ma che sia possiamo regolare il tempo di frenata per continuare a soddisfare le condizioni indicate nel testo**\n",
    "\n",
    "Il problema risultante può essere formulato come un sistema di equazioni non lineari:\n",
    "\n",
    "$$\\begin{align}\n",
    "\\alpha_3 t_0^3 + \\alpha_2 t_0^2 + \\alpha_1 t_0 + \\alpha_0 - v_0 &= 0 \\\\\n",
    "\\alpha_3 t_1^3 + \\alpha_2 t_1^2 + \\alpha_1 t_1 + \\alpha_0 - v_1 &= 0 \\\\\n",
    "3 \\alpha_3 t_0^2 + 2 \\alpha_2 t_0 + \\alpha_1 &= 0 \\\\\n",
    "3 \\alpha_3 t_1^2 + 2 \\alpha_2 t_1 + \\alpha_1 &= 0 \\\\\n",
    "\\end{align}$$\n",
    "\n",
    "Dove le variabili sono $\\alpha_2, \\alpha_1, \\alpha_0$ e $t_1$. Si noti che $\\alpha_3$ _non_ è una variabile.\n",
    "\n",
    "**Nel modulo `sol.brake` si definisca la funzione:**\n",
    "\n",
    "```python\n",
    "def find_curve_params2_aux(X, t0=0, v0=5.5, v1=0, a3=0.171875):\n",
    "    ...\n",
    "```\n",
    "\n",
    "* La funzione deve calcolare e restituire i valori delle 4 espressioni che devono azzerarsi perché le equazioni siano soddisfatte\n",
    "\n",
    "**Nel modulo `sol.brake` si definisca la funzione:**\n",
    "\n",
    "```python\n",
    "def find_curve_params2(X0=[-1, 0.2, 6.0, 4.5]):\n",
    "    ...\n",
    "```\n",
    "\n",
    "* La funzione deve calcolare i valori di $\\alpha_2, \\alpha_1, \\alpha_0, t_1$ per cui la curva soddisfi le condizioni richieste\n",
    "* A tal fine, si utilizzi la funzione `scipy.optimize.fsolve`, con la stima iniziale fornite nel codice\n",
    "* La funzione deve restituire nell'ordine $\\alpha_2, \\alpha_1, \\alpha_0, t_1$\n",
    "\n",
    "Per verificare la correttezza, si suggerisce di disegnare la curva nell'intervallo per $t$ compreso tra $0$ e $4$, utilizzando la fuzione `base.util.plot` inclusa con il tema d'esame."
   ]
  },
  {
   "cell_type": "code",
   "execution_count": null,
   "metadata": {},
   "outputs": [],
   "source": []
  },
  {
   "cell_type": "markdown",
   "metadata": {},
   "source": [
    "## Esercizio 3\n",
    "\n",
    "**Assumento $t_0 = 0$, lo spazio di frenata può essere calcolato come:**\n",
    "\n",
    "$$\n",
    "S(t) = \\frac{1}{4}\\alpha_3 t^4 + \\frac{1}{3}\\alpha_2 t^3 + \\frac{1}{2}\\alpha_1 t^2 + \\alpha_0 t\n",
    "$$\n",
    "\n",
    "**Nel modulo `sol.brake` si definisca la funzione:**\n",
    "\n",
    "```python\n",
    "def braking_distance(t1):\n",
    "    ...\n",
    "```\n",
    "\n",
    "* La funzione riceve in ingresso un valore di $t_1$\n",
    "* Quindi, deve determinare i parametri della curva utilizzando `sol.find_curve_params` (definita nell'esercizio 1)\n",
    "* La funzione deve restituire lo spazio di frenata\n",
    "\n",
    "**È possibile calibrare il valore di $t_1$ in modo da ottenere una determinato spazio di frenata, risolvendo l'equazione:**\n",
    "\n",
    "$$\n",
    "F(t_1) = S(t_1) - S^* = 0\n",
    "$$\n",
    "\n",
    "Dove $S(t_1)$ è lo spazio di frenata (calcolato come indicato sopra) e $S^*$ è il valore desiderato\n",
    "\n",
    "**Nel modulo `sol.brake` si definisca la funzione:**\n",
    "\n",
    "```python\n",
    "def find_t1_aux(t1):\n",
    "    ...\n",
    "```\n",
    "\n",
    "* La funzione deve restituire il valore di $F(t_1)$ con $S^* = 10$\n",
    "\n",
    "**Nel modulo `sol.brake` si definisca la funzione:**\n",
    "\n",
    "```python\n",
    "def find_t1(a=3, b=12):\n",
    "    ...\n",
    "```\n",
    "\n",
    "* La funzione deve calcolare e restituire il valore di $t_1$ perché lo spazio di frenata sia pari a $10$ metri\n",
    "* A tale fine, si utilizzi la funzione `scipy.optimize.brentq`"
   ]
  },
  {
   "cell_type": "code",
   "execution_count": null,
   "metadata": {
    "scrolled": false
   },
   "outputs": [],
   "source": []
  }
 ],
 "metadata": {
  "kernelspec": {
   "display_name": "Python 3 (ipykernel)",
   "language": "python",
   "name": "python3"
  },
  "language_info": {
   "codemirror_mode": {
    "name": "ipython",
    "version": 3
   },
   "file_extension": ".py",
   "mimetype": "text/x-python",
   "name": "python",
   "nbconvert_exporter": "python",
   "pygments_lexer": "ipython3",
   "version": "3.11.8"
  },
  "rise": {
   "center": false,
   "enable_chalkboard": true,
   "transition": "fade"
  }
 },
 "nbformat": 4,
 "nbformat_minor": 4
}
