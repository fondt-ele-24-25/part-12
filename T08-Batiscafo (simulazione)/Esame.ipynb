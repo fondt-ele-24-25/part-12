{
 "cells": [
  {
   "cell_type": "code",
   "execution_count": 1,
   "metadata": {
    "slideshow": {
     "slide_type": "skip"
    }
   },
   "outputs": [],
   "source": [
    "%load_ext autoreload\n",
    "%autoreload 2"
   ]
  },
  {
   "cell_type": "markdown",
   "metadata": {
    "slideshow": {
     "slide_type": "subslide"
    }
   },
   "source": [
    "## Esercizio: Batiscafo\n",
    "\n",
    "Si vuole progettare un veicolo per immersioni in profondità, sul modello del batiscafo \"Trieste\" che nel 1960 discese alla profondità record di 10911 metri.\n",
    "\n",
    "<center>\n",
    "<img src=\"assets/trieste.png\" width=60%/>\n",
    "</center>\n",
    "\n",
    "Un batiscafo è costituito da tre componenti principali: una cabina, un galleggiante ed una zavorra. Ci focalizzeremo sulla progettazione del galleggiante, che assumeremo essere di forma sferica. Il batiscafo affonda finché la zavorra è presente ed inizia a risalire quando questa viene rilasciata.\n",
    "\n",
    "Sul veicolo agiscono tre forze principali: quella di gravità, quella di galleggiamento e quella di trascinamento (attrito con l’acqua). Poiché non ci occupiamo della progettazione della cabina e della zavorra, per queste due componenti l’effetto della forza di galleggiamento può essere incorporato in quello della forza di gravità. Assumendo un asse y orientato verso l’alto, quest’ultima è data da:\n",
    "\n",
    "$$\n",
    "F_g = - g (m_s + m_b + m_f)\n",
    "$$\n",
    "\n",
    "Dove $g$ è l’accelerazione di gravità, $m_f$ è la massa del galleggiante, mentre $m_b$ e $m_s$ sono le masse equivalenti (i.e. che incorporano l’effetto del galleggiamento) della zavorra e della cabina. La massa del galleggiante può essere calcolata a partire dal suo volume con:\n",
    "\n",
    "$$\n",
    "m_f = \\rho_f V_f \\quad \\text{ con: } V_f = \\frac{4}{3}\\pi r^3\n",
    "$$\n",
    "\n",
    "Dove $V_f$ è il volume del galleggiante, $r$ è il suo raggio e $\\rho_f$ è la sua densità. La forza di\n",
    "galleggiamento è invece data da:\n",
    "\n",
    "$$\n",
    "F_b = g \\rho_w V_f\n",
    "$$\n",
    "\n",
    "Dove $\\rho_w$ è la densità dell’acqua. La forza di trascinamento, infine, è data da:\n",
    "\n",
    "$$\n",
    "F_t = - \\frac{1}{2} \\rho_w C_d S_f v |v| \\quad \\text{ con: } S_f = \\pi r^2\n",
    "$$\n",
    "\n",
    "Dove $v$ è la velocità di discesa, $C_d$ è un coefficiente di trascinamento e $S_f$ è la superficie del galleggiante."
   ]
  },
  {
   "cell_type": "markdown",
   "metadata": {},
   "source": [
    "## Esercizio 1\n",
    "\n",
    "**La velocità di discesa si stabilizza su un valore terminale quando le tre forze si annullano, ossia quando:**\n",
    "\n",
    "$$\n",
    "F_g + F_b + F_t = 0\n",
    "$$\n",
    "\n",
    "Si può sfruttare l'uguaglianza per dimensionare il galleggiante in modo tale da ottenre una data velocità terminale. Ciò richiede di risolvere una equazione nella forma:\n",
    "\n",
    "$$\n",
    "F(r) = F_g(r) + F_b(r) + F_t(r) = 0\n",
    "$$\n",
    "\n",
    "In cui tutti i parametri sono noti (inclusa la velocità terminale desiderata) ed il raggio $r$ del galleggiante è da determinare.\n",
    "\n",
    "**Nel modulo `sol.trieste` definire la funzione**\n",
    "\n",
    "```python\n",
    "def force_balance(r):\n",
    "    # Parametri fissi\n",
    "    rhof = 979 # Densita' del galleggiante\n",
    "    rhow = 1000 # Densita' dell'acqua\n",
    "    Cd = 0.62 # Coefficiente di trascinamento\n",
    "    ms = 8000 # Massa equivalente della cabina in acqua\n",
    "    mb = 9000 - 1143 # Massa equivalente della zavorra in acqua\n",
    "    g = 9.81 # Accelerazione di gravita' (costante, per semplicita')\n",
    "    vf = -0.9 # Velocita' di discesa desiderata\n",
    "    ...\n",
    "```\n",
    "\n",
    "* La funzione deve calcolare e restituire il valore di $F(r)$\n",
    "* Diversi parametri (inclusa la velocità terminale desiderata) saranno considerati fissi nell'esercizio\n",
    "\n",
    "\n",
    "**Nel modulo `sol.trieste` si definisca quindi la funzione:**\n",
    "\n",
    "```python\n",
    "def find_r():\n",
    "    a, b = 1, 10\n",
    "    ...\n",
    "```\n",
    "\n",
    "* La funzione deve risolvere l'equazione non lineare $F(r) = 0$\n",
    "* Per la soluzione, si utilizzi il metododo `scipy.optimize.brentq`, con gli estermi indicati\n",
    "* La funzione deve restituire il valore del raggio che permette di raggiungere la velocità terminale desiderata\n",
    "\n",
    "Si collaudi la funzione nella cella seguente."
   ]
  },
  {
   "cell_type": "code",
   "execution_count": null,
   "metadata": {
    "scrolled": false
   },
   "outputs": [],
   "source": []
  },
  {
   "cell_type": "markdown",
   "metadata": {},
   "source": [
    "## Esercizio 2\n",
    "\n",
    "**L’andamento della posizione (i.e. della profondità) e della velocità del batiscafo è caratterizzato dall'equazione differenziale ordinaria:**\n",
    "\n",
    "$$\\begin{align}\n",
    "\\dot{x} &= v \\\\\n",
    "\\dot{v} &= \\frac{1}{m_s + m_b + m_f} (F_g + F_b + F_t)\n",
    "\\end{align}$$\n",
    "\n",
    "**Nel modulo `sol.trieste` definire la funzione**\n",
    "\n",
    "```python\n",
    "def dstate(X, t):\n",
    "    # Parametri fissi\n",
    "    rhof = 979 # Densita' del galleggiante\n",
    "    rhow = 1000 # Densita' dell'acqua\n",
    "    Cd = 0.62 # Coefficiente di trascinamento\n",
    "    ms = 8000 # Massa equivalente della cabina in acqua\n",
    "    mb = 9000 - 1143 # Massa equivalente della zavorra in acqua\n",
    "    g = 9.81 # Accelerazione di gravita' (costante, per semplicita')\n",
    "    r = 5.3 # Raggio del galleggiante\n",
    "    ...\n",
    "```\n",
    "\n",
    "* La funzione deve calcolare le espressioni che definiscono l'ODE\n",
    "* Diversi parametri (come indicato) saranno considerati fissi nell'esercizio\n",
    "* La funzione deve restituire un array `numpy` con le due componenti della derivata\n",
    "\n",
    "\n",
    "**Nel modulo `sol.trieste` si definisca quindi la funzione:**\n",
    "\n",
    "```python\n",
    "def simulate():\n",
    "    v0 = 0\n",
    "    x0 = 0\n",
    "    X0 = [x0, v0]\n",
    "    t = np.linspace(0, 300, 300 * 10)\n",
    "    ...\n",
    "```\n",
    "\n",
    "* La funzione deve risolvere un problema ai valori iniziali\n",
    "* ...Con lo stato iniziale ed il vettore dei tempi indicati\n",
    "* Il metodo deve restituire\n",
    "  - La matrice con gli stati visitati\n",
    "  - Il vettore dei tempi visitati\n",
    "\n",
    "Si collaudi la funzione nella cella seguente. Per verificare la correttezza dei risultati, può essere utile disegnare l'andamento dello stato usando la funzione `plot_state_evolution` nel modulo `base.util` incluso nel tema d'esame."
   ]
  },
  {
   "cell_type": "code",
   "execution_count": null,
   "metadata": {},
   "outputs": [],
   "source": []
  },
  {
   "cell_type": "markdown",
   "metadata": {},
   "source": [
    "## Esercizio 3\n",
    "\n",
    "**Sia $x(t)$ il valore della quota del batiscafo al tempo $t$. Dato un valore di quota $x^*$ di interesse, è possibile determinare per quale valore di tempo venga raggiunto risolvendo:**\n",
    "\n",
    "$$\n",
    "F_2(t) = x(t) - x^* = 0\n",
    "$$\n",
    "\n",
    "Il valore di $t$ che azzera la funzione rappresenta la soluzione.\n",
    "\n",
    "**Nel modulo `sol.trieste` si definisca la funzione**\n",
    "\n",
    "```python\n",
    "def find_t250_aux(t):\n",
    "    ...\n",
    "```\n",
    "\n",
    "* La funzione deve calcolare il valore della funzione $F_2(t)$ indicata sopra, per $x^* = -250$\n",
    "* Si consideri come riferimento il problema ai valori iniziale risolto nell'esercizio 1\n",
    "\n",
    "**Nel modulo `sol.meteor` si definisca la funzione**\n",
    "\n",
    "```python\n",
    "def find_t250():\n",
    "    a, b = 0, 60 * 60\n",
    "    ...\n",
    "```\n",
    "\n",
    "* La funzione deve determinare per quale tempo la funzione $F_2(t)$ si azzera\n",
    "* Per la soluzione dell'equazione, si utilizzi il metodo `scipy.optimize.brentq` con gli estremi indicati\n",
    "* La funzione deve restituire il valore del tempo che risolve l'equazione"
   ]
  },
  {
   "cell_type": "code",
   "execution_count": null,
   "metadata": {},
   "outputs": [],
   "source": []
  }
 ],
 "metadata": {
  "kernelspec": {
   "display_name": "Python 3 (ipykernel)",
   "language": "python",
   "name": "python3"
  },
  "language_info": {
   "codemirror_mode": {
    "name": "ipython",
    "version": 3
   },
   "file_extension": ".py",
   "mimetype": "text/x-python",
   "name": "python",
   "nbconvert_exporter": "python",
   "pygments_lexer": "ipython3",
   "version": "3.9.5"
  },
  "rise": {
   "center": false,
   "enable_chalkboard": true,
   "transition": "fade"
  }
 },
 "nbformat": 4,
 "nbformat_minor": 4
}
