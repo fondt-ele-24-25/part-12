{
 "cells": [
  {
   "cell_type": "code",
   "execution_count": 1,
   "metadata": {
    "slideshow": {
     "slide_type": "skip"
    }
   },
   "outputs": [],
   "source": [
    "%load_ext autoreload\n",
    "%autoreload 2"
   ]
  },
  {
   "cell_type": "markdown",
   "metadata": {
    "slideshow": {
     "slide_type": "subslide"
    }
   },
   "source": [
    "## Esercizio: BMW-i8\n",
    "\n",
    "**Una BMW i8 accelera a tavoletta su un rettilineo**\n",
    "\n",
    "<center>\n",
    "<img src=\"assets/bmw-i8.png\" width=30%/>\n",
    "</center>\n",
    "\n",
    "Supponiamo che il motore eroghi una forza costante $F$\n",
    "\n",
    "* L'auto ha un motore elettrico, così l'assunzione non è così irrealistica\n",
    "\n",
    "Alla direzione del moto si oppone la forza di trascinamento:\n",
    "\n",
    "$$\n",
    "F_t = -\\frac{1}{2} \\rho C_D A v |v|\n",
    "$$\n",
    "\n",
    "* $\\rho$ è la densità dell'aria, $v$ è la velocità\n",
    "* $A$ è la superficie della sezione dell'auto\n",
    "* $C_D$ è un coefficiente di trascinamento\n",
    "\n",
    "**Quindi il sistema è definito dall'ODE:**\n",
    "\n",
    "$$\n",
    "\\ddot{x} = \\frac{1}{m} (F + F_t)\n",
    "$$\n",
    "\n",
    "Che può essere riscritta come:\n",
    "\n",
    "$$\n",
    "\\left(\\begin{array}{c}\n",
    "\\dot{x} \\\\\n",
    "\\dot{v}\n",
    "\\end{array}\\right)\n",
    "=\n",
    "\\left(\\begin{array}{c}\n",
    "v \\\\\n",
    "\\frac{1}{m} (F + F_t)\n",
    "\\end{array}\\right)\n",
    "$$\n",
    "\n",
    "* Dove $m$ è la massa dell'auto"
   ]
  },
  {
   "cell_type": "markdown",
   "metadata": {},
   "source": [
    "## Esercizio 1\n",
    "\n",
    "**Nel modulo `sol.bmw` definire la classe**\n",
    "\n",
    "```python\n",
    "class Dstate:\n",
    "    def __init__(self, Cd, rho=1.25, A=2.5*1.2, m=1539, F=10000):\n",
    "        ...\n",
    "\n",
    "    def __call__(self, X, t):\n",
    "\n",
    "        ...\n",
    "\n",
    "```\n",
    "\n",
    "* Il metodo `__call__` deve calcolare la funzione che definisce l'ODE\n",
    "* Diversi parametri (come indicato) hanno un valore di default\n",
    "* Il metodo deve restituire un array `numpy` con le due componenti della derivata\n",
    "\n",
    "\n",
    "**Nel modulo `sol.bmw` si definisca quindi la funzione:**\n",
    "\n",
    "```python\n",
    "def simulate(Cd, x0=[0, 0], t=np.linspace(0, 60, 60000)):\n",
    "    ...\n",
    "```\n",
    "\n",
    "* La funzione deve risolvere un problema ai valori iniziali\n",
    "* ...Con lo stato iniziale ed il vettorei dei tempi indicati\n",
    "* Il metodo deve restituire\n",
    "  - La matrice con gli stati visitati\n",
    "  - Il vettore dei tempi visitati\n",
    "\n",
    "Si collaudi la funzione per $C_d = 0.82$. Per verificare la correttezza dei risultati, può essere utile disegnare l'andamento dello stato usando la funzione `plot_state_evolution` nel modulo `base.util` incluso nel tema d'esame.\n"
   ]
  },
  {
   "cell_type": "code",
   "execution_count": null,
   "metadata": {},
   "outputs": [],
   "source": []
  },
  {
   "cell_type": "markdown",
   "metadata": {},
   "source": [
    "## Esercizio 2\n",
    "\n",
    "**La velocità terminale dell'auto può essere determinata individuando le condizioni per l'annullamento dell'accelerazione, i.e.:**\n",
    "\n",
    "$$\n",
    "\\dot{v} = \\frac{1}{m} (F + F_t) = 0\n",
    "$$\n",
    "\n",
    "Da cui si ottiene facilmente l'equazione non lineare:\n",
    "\n",
    "$$\n",
    "F(v) = F + F_t(v) = 0\n",
    "$$\n",
    "\n",
    "**Nel modulo `sol.bmw` si definisca la funzione:**\n",
    "\n",
    "```python\n",
    "def find_terminal_speed_aux(v, Cd=0.82, rho=1.25, A=2.5*1.2, m=1539, F=10000):\n",
    "    ...\n",
    "```\n",
    "\n",
    "* La funzione deve calcolare e restituire il valore di $F(v)$, con i rimanenti parametri eventualmente specificati al momento della chiamata\n",
    "\n",
    "**Nel modulo `sol.bmw` si definisca la funzione:**\n",
    "\n",
    "```python\n",
    "def find_terminal_speed(a=0, b=100):\n",
    "    ...\n",
    "```\n",
    "\n",
    "* La funzione deve utilizzare il metodo `scipy.optimize.brentq` per determinare la velocità terminale\n",
    "* La funzione deve restituire il valore della velocità terminale"
   ]
  },
  {
   "cell_type": "code",
   "execution_count": null,
   "metadata": {},
   "outputs": [],
   "source": []
  },
  {
   "cell_type": "markdown",
   "metadata": {},
   "source": [
    "## Esercizio 3\n",
    "\n",
    "**Nel modulo `sol.bmw` si definisca la funzione**\n",
    "\n",
    "```python\n",
    "def speed_in_5_seconds(Cd):\n",
    "    ...\n",
    "```\n",
    "\n",
    "* Che, dato un valore per $C_d$ calcoli la velocità raggiunta in 5 secondi\n",
    "* La funzione deve restituire tale valore di velocità\n",
    "\n",
    "**Sia $f(Cd)$ la funzione appena definita**\n",
    "\n",
    "È possibile determinare per quale valore di $C_d$ la velocità raggiunta in $5$ secondi sia pari ad un valore desiderato $v^*$, risolvendo l'equazione non lineare:\n",
    "\n",
    "$$\n",
    "F_2(C_d) = f(C_d) - v^* = 0\n",
    "$$\n",
    "\n",
    "**Nel modulo `sol.bmw` si definisca la funzione:**\n",
    "\n",
    "```python\n",
    "def find_Cd_aux(Cd):\n",
    "    v_star = 31\n",
    "    ...\n",
    "```\n",
    "\n",
    "* La funzione deve calcolare e restituire il valore di $F_2(C_d)$ per $v^* = 31 m/s$\n",
    "\n",
    "**Nel modulo `sol.bmw` si definisca la funzione**\n",
    "\n",
    "```python\n",
    "def find_Cd(a=0.2, b=1.0):\n",
    "    ...\n",
    "```\n",
    "\n",
    "* La funzione deve utilizzare il metodo `scipy.optimize.brentq` per determinare il valore di $C_d$ che permette all'automobile di raggiungere in $5$ secondi la velocità di $v^* = 31 m/s$\n",
    "* La funzione deve restituire il valore di $C_d$ così calcolato"
   ]
  },
  {
   "cell_type": "code",
   "execution_count": null,
   "metadata": {},
   "outputs": [],
   "source": []
  }
 ],
 "metadata": {
  "kernelspec": {
   "display_name": "Python 3 (ipykernel)",
   "language": "python",
   "name": "python3"
  },
  "language_info": {
   "codemirror_mode": {
    "name": "ipython",
    "version": 3
   },
   "file_extension": ".py",
   "mimetype": "text/x-python",
   "name": "python",
   "nbconvert_exporter": "python",
   "pygments_lexer": "ipython3",
   "version": "3.11.8"
  },
  "rise": {
   "center": false,
   "enable_chalkboard": true,
   "transition": "fade"
  }
 },
 "nbformat": 4,
 "nbformat_minor": 4
}
